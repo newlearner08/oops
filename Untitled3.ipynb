{
  "nbformat": 4,
  "nbformat_minor": 0,
  "metadata": {
    "colab": {
      "provenance": []
    },
    "kernelspec": {
      "name": "python3",
      "display_name": "Python 3"
    },
    "language_info": {
      "name": "python"
    }
  },
  "cells": [
    {
      "cell_type": "markdown",
      "source": [
        "                                                           OOPS ASSIGNMENT"
      ],
      "metadata": {
        "id": "itJUFlQmR4JX"
      }
    },
    {
      "cell_type": "markdown",
      "source": [
        "1.What are the five key concepts of Object-Oriented Programming (OOP)?\n",
        "\n",
        "\n",
        "1.The five key concepts of Object-Oriented Programming (OOP) are:\n",
        "\n",
        "Class: A blueprint or template for creating objects. It defines the properties (attributes) and behaviors (methods) that the objects created from the class will have.\n",
        "\n",
        "Object: An instance of a class. It is a specific entity that has the attributes and behaviors defined by its class.\n",
        "\n",
        "Encapsulation: The concept of bundling the data (attributes) and methods (behaviors) that operate on the data into a single unit or class, and restricting access to some of the object's components. This is achieved through access modifiers like private, protected, and public.\n",
        "\n",
        "Inheritance: The mechanism by which one class (called a subclass or derived class) inherits properties and behaviors from another class (called a superclass or base class). It allows for code reusability and the creation of hierarchical relationships.\n",
        "\n",
        "Polymorphism: The ability of different objects to respond to the same method call in different ways. It can be achieved through method overriding (runtime polymorphism) and method overloading (compile-time polymorphism). This allows for flexible and extensible code.\n",
        "\n",
        "These concepts form the foundation of OOP and help in creating modular, reusable, and scalable software.\n"
      ],
      "metadata": {
        "id": "E_bdL7rPSES3"
      }
    },
    {
      "cell_type": "markdown",
      "source": [],
      "metadata": {
        "id": "rJmJbdShSZ4u"
      }
    },
    {
      "cell_type": "markdown",
      "source": [
        "2. Write a Python class for a `Car` with attributes for `make`, `model`, and `year`. Include a method to display the car's information."
      ],
      "metadata": {
        "id": "_i_vEnTRSLED"
      }
    },
    {
      "cell_type": "code",
      "source": [
        "class Car:\n",
        "    def __init__(self, make, model, year):\n",
        "        self.make = make\n",
        "        self.model = model\n",
        "        self.year = year\n",
        "\n",
        "    def display_info(self):\n",
        "        return \"The car is a \" + str(self.year) + \" \" + self.make + \" \" + self.model + \".\"\n"
      ],
      "metadata": {
        "id": "doa-7WlNSpC0"
      },
      "execution_count": 3,
      "outputs": []
    },
    {
      "cell_type": "markdown",
      "source": [
        "3.Explain the difference between instance methods and class methods. Provide an example of each.\n",
        "\n",
        "3.Difference between Instance Methods and Class Methods:\n",
        "Instance Methods:\n",
        "\n",
        "Defined to operate on instances (objects) of the class.\n",
        "They can access and modify object-specific data (instance variables).\n",
        "The first parameter is always self, which refers to the instance calling the method.\n",
        "Class Methods:\n",
        "\n",
        "Defined to operate on the class itself, rather than on instances of the class.\n",
        "They can't modify instance-specific data but can modify class-level data (class variables).\n",
        "The first parameter is always cls, which refers to the class, not the instance.\n",
        "Declared using the @classmethod decorator."
      ],
      "metadata": {
        "id": "yfL0ta01Tl5g"
      }
    },
    {
      "cell_type": "code",
      "source": [
        "# Instance Method Example:\n",
        "class Car:\n",
        "    def __init__(self, make, model, year):\n",
        "        self.make = make\n",
        "        self.model = model\n",
        "        self.year = year\n",
        "\n",
        "    # Instance method\n",
        "    def display_info(self):\n",
        "        return f\"The car is a {self.year} {self.make} {self.model}.\"\n",
        "\n",
        "# Creating an instance (object) of the Car class\n",
        "car1 = Car(\"Toyota\", \"Camry\", 2022)\n",
        "\n",
        "# Calling an instance method\n",
        "print(car1.display_info())\n"
      ],
      "metadata": {
        "colab": {
          "base_uri": "https://localhost:8080/"
        },
        "id": "vk_1geO8TyRG",
        "outputId": "0fc2b004-2c14-4fc5-8802-9a8c0c1e1a0d"
      },
      "execution_count": 4,
      "outputs": [
        {
          "output_type": "stream",
          "name": "stdout",
          "text": [
            "The car is a 2022 Toyota Camry.\n"
          ]
        }
      ]
    },
    {
      "cell_type": "code",
      "source": [
        "#Class method example:\n",
        "class Car:\n",
        "    # Class variable\n",
        "    car_count = 0\n",
        "\n",
        "    def __init__(self, make, model, year):\n",
        "        self.make = make\n",
        "        self.model = model\n",
        "        self.year = year\n",
        "        Car.car_count += 1  # Increment the class variable each time a car is created\n",
        "\n",
        "    # Class method\n",
        "    @classmethod\n",
        "    def total_cars(cls):\n",
        "        return f\"Total cars created: {cls.car_count}\"\n",
        "\n",
        "# Creating instances of the Car class\n",
        "car1 = Car(\"Toyota\", \"Camry\", 2022)\n",
        "car2 = Car(\"Honda\", \"Civic\", 2023)\n",
        "\n",
        "# Calling a class method\n",
        "print(Car.total_cars())  # Accessing via the class itself\n"
      ],
      "metadata": {
        "colab": {
          "base_uri": "https://localhost:8080/"
        },
        "id": "qnhCqFbsUSRK",
        "outputId": "ba0eae3d-d1e6-4ef0-e06e-98cd5bef8a2a"
      },
      "execution_count": 5,
      "outputs": [
        {
          "output_type": "stream",
          "name": "stdout",
          "text": [
            "Total cars created: 2\n"
          ]
        }
      ]
    },
    {
      "cell_type": "markdown",
      "source": [
        "4.How does Python implement method overloading? Give an example.\n",
        "\n",
        "4.Method Overloading in Python:\n",
        "Unlike some other programming languages, Python does not support method overloading by default. This means that you cannot define multiple methods with the same name but different parameter lists. If you try to define more than one method with the same name, the last one will override the previous ones.\n",
        "\n",
        "However, you can simulate method overloading by using default parameters or handling different types/number of arguments inside the same method.\n",
        "\n",
        "Example of Simulating Method Overloading:\n",
        "Here’s how you can simulate overloading by using default arguments or the *args (variable-length argument list):"
      ],
      "metadata": {
        "id": "fy7w6XOgU2SD"
      }
    },
    {
      "cell_type": "code",
      "source": [
        "class Calculator:\n",
        "    def add(self, *args):\n",
        "        return sum(args)\n",
        "\n",
        "# Creating an instance of Calculator\n",
        "calc = Calculator()\n",
        "\n",
        "# Calling the 'add' method with a variable number of arguments\n",
        "print(calc.add(1, 2))       # Output: 3\n",
        "print(calc.add(1, 2, 3))    # Output: 6\n",
        "print(calc.add(1, 2, 3, 4)) # Output: 10\n"
      ],
      "metadata": {
        "colab": {
          "base_uri": "https://localhost:8080/"
        },
        "id": "P-Nxsc0rWcgG",
        "outputId": "668d4222-6021-4e29-b808-b5ae4cecd1d7"
      },
      "execution_count": 6,
      "outputs": [
        {
          "output_type": "stream",
          "name": "stdout",
          "text": [
            "3\n",
            "6\n",
            "10\n"
          ]
        }
      ]
    },
    {
      "cell_type": "markdown",
      "source": [
        "5.What are the three types of access modifiers in Python? How are they denoted?\n",
        "\n",
        "5.In Python, there are three types of access modifiers to control the visibility and accessibility of class members (attributes and methods). These access levels are not as strictly enforced as in some other programming languages (like Java or C++), but Python uses naming conventions to indicate the intended level of access. The three access modifiers are:\n",
        "\n",
        "1. Public\n",
        "Denoted by: No special prefix (default).\n",
        "Meaning: Public members are accessible from anywhere, both inside and outside the class. This is the default access level for all class members in Python.\n",
        "Example:"
      ],
      "metadata": {
        "id": "B5GPLH6QWtpu"
      }
    },
    {
      "cell_type": "code",
      "source": [
        "class Car:\n",
        "    def __init__(self, make, model):\n",
        "        self.make = make  # Public attribute\n",
        "        self.model = model  # Public attribute\n",
        "\n",
        "    def display_info(self):  # Public method\n",
        "        return f\"{self.make} {self.model}\"\n",
        "\n",
        "car = Car(\"Toyota\", \"Camry\")\n",
        "print(car.make)  # Accessible outside the class\n",
        "print(car.display_info())  # Accessible outside the class\n"
      ],
      "metadata": {
        "id": "fDpgZyRNW9Us"
      },
      "execution_count": null,
      "outputs": []
    },
    {
      "cell_type": "markdown",
      "source": [
        "2. Protected\n",
        "Denoted by: A single leading underscore (_).\n",
        "Meaning: Protected members are intended to be accessible only within the class and its subclasses. However, this is just a convention, and they can still be accessed outside the class. Python relies on this convention to signal that these members are internal to the class and should not be accessed directly.\n",
        "Example:"
      ],
      "metadata": {
        "id": "8_xY8PKIXAq0"
      }
    },
    {
      "cell_type": "code",
      "source": [
        "class Car:\n",
        "    def __init__(self, make, model):\n",
        "        self._make = make  # Protected attribute\n",
        "        self._model = model  # Protected attribute\n",
        "\n",
        "    def _display_info(self):  # Protected method\n",
        "        return f\"{self._make} {self._model}\"\n",
        "\n",
        "car = Car(\"Toyota\", \"Camry\")\n",
        "print(car._make)  # Technically accessible, but not recommended\n"
      ],
      "metadata": {
        "colab": {
          "base_uri": "https://localhost:8080/"
        },
        "id": "keE9IUQNXG3O",
        "outputId": "cdceb76e-9fec-479a-9383-5d85eb9f9904"
      },
      "execution_count": 7,
      "outputs": [
        {
          "output_type": "stream",
          "name": "stdout",
          "text": [
            "Toyota\n"
          ]
        }
      ]
    },
    {
      "cell_type": "markdown",
      "source": [
        "3.Private\n",
        "Denoted by: A double leading underscore (__).\n",
        "Meaning: Private members are intended to be inaccessible from outside the class. Python performs name mangling to change the name of the member internally, making it harder (but still possible) to access. Private members are meant to be accessed only within the class where they are defined.\n",
        "Example:\n"
      ],
      "metadata": {
        "id": "drvpYIR8XJ2w"
      }
    },
    {
      "cell_type": "code",
      "source": [
        "class Car:\n",
        "    def __init__(self, make, model):\n",
        "        self.__make = make  # Private attribute\n",
        "        self.__model = model  # Private attribute\n",
        "\n",
        "    def __display_info(self):  # Private method\n",
        "        return f\"{self.__make} {self.__model}\"\n",
        "\n",
        "    def public_info(self):\n",
        "        return self.__display_info()  # Accessing private method from within the class\n",
        "\n",
        "car = Car(\"Toyota\", \"Camry\")\n",
        "# print(car.__make)  # This will raise an AttributeError\n",
        "print(car.public_info())  # Access through a public method\n"
      ],
      "metadata": {
        "colab": {
          "base_uri": "https://localhost:8080/"
        },
        "id": "yANRzvYOXPZo",
        "outputId": "a7025c59-0f51-4e57-c9f1-6ac963fd1272"
      },
      "execution_count": 8,
      "outputs": [
        {
          "output_type": "stream",
          "name": "stdout",
          "text": [
            "Toyota Camry\n"
          ]
        }
      ]
    },
    {
      "cell_type": "markdown",
      "source": [
        "6.Describe the five types of inheritance in Python. Provide a simple example of multiple inheritance.\n",
        "\n",
        "6.Five Types of Inheritance in Python:\n",
        "\n",
        "Single Inheritance:\n",
        "\n",
        "Involves a single child class inheriting from a single parent class.\n",
        "\n",
        "\n",
        "Multiple Inheritance:\n",
        "\n",
        "A child class inherits from more than one parent class.\n",
        "Example is provided below.\n",
        "\n",
        "Multilevel Inheritance:\n",
        "\n",
        "Involves a chain of inheritance where a class is derived from a child class, which in turn is derived from another parent class.\n",
        "\n",
        "Hierarchical Inheritance:\n",
        "\n",
        "Multiple child classes inherit from a single parent class.\n",
        "\n",
        "Hybrid Inheritance:\n",
        "\n",
        "A combination of two or more types of inheritance. It may involve multiple inheritance along with hierarchical or multilevel inheritance."
      ],
      "metadata": {
        "id": "TOqDCt62XTet"
      }
    },
    {
      "cell_type": "code",
      "source": [
        "#example of multiple inheretance\n",
        "class Father:\n",
        "    def show_father(self):\n",
        "        print(\"Father class\")\n",
        "\n",
        "class Mother:\n",
        "    def show_mother(self):\n",
        "        print(\"Mother class\")\n",
        "\n",
        "# Child class inherits from both Father and Mother\n",
        "class Child(Father, Mother):\n",
        "    def show_child(self):\n",
        "        print(\"Child class\")\n",
        "\n",
        "# Create an instance of Child\n",
        "child = Child()\n",
        "child.show_father()  # Output: Father class\n",
        "child.show_mother()  # Output: Mother class\n",
        "child.show_child()   # Output: Child class\n"
      ],
      "metadata": {
        "colab": {
          "base_uri": "https://localhost:8080/"
        },
        "id": "L03s-s-xXchv",
        "outputId": "b1a8f9b2-e240-4120-8b54-3e584d8d7d46"
      },
      "execution_count": 9,
      "outputs": [
        {
          "output_type": "stream",
          "name": "stdout",
          "text": [
            "Father class\n",
            "Mother class\n",
            "Child class\n"
          ]
        }
      ]
    },
    {
      "cell_type": "markdown",
      "source": [
        "7.What is the Method Resolution Order (MRO) in Python? How can you retrieve it programmatically?\n",
        "\n",
        "7.Method Resolution Order (MRO) in Python\n",
        "Method Resolution Order (MRO) is the order in which Python looks for a method in a hierarchy of classes when a method is called on an object. MRO is particularly important in the context of multiple inheritance, where a class can inherit from more than one parent class. Python uses an algorithm called C3 linearization to determine the MRO.\n",
        "\n",
        "The MRO defines the order in which base classes are searched when looking for a method. The search begins with the class of the instance and proceeds up the hierarchy."
      ],
      "metadata": {
        "id": "GjQb5mHcYfTj"
      }
    },
    {
      "cell_type": "markdown",
      "source": [
        "8.Create an abstract base class `Shape` with an abstract method `area()`. Then create two subclasses `Circle` and `Rectangle` that implement the `area()` method.\n"
      ],
      "metadata": {
        "id": "ky5833cOY5w4"
      }
    },
    {
      "cell_type": "code",
      "source": [
        "#8.\n",
        "from abc import ABC, abstractmethod\n",
        "import math\n",
        "\n",
        "# Abstract base class\n",
        "class Shape(ABC):\n",
        "    @abstractmethod\n",
        "    def area(self):\n",
        "        pass\n",
        "\n",
        "# Subclass for Circle\n",
        "class Circle(Shape):\n",
        "    def __init__(self, radius):\n",
        "        self.radius = radius\n",
        "\n",
        "    def area(self):\n",
        "        return math.pi * (self.radius ** 2)\n",
        "\n",
        "# Subclass for Rectangle\n",
        "class Rectangle(Shape):\n",
        "    def __init__(self, width, height):\n",
        "        self.width = width\n",
        "        self.height = height\n",
        "\n",
        "    def area(self):\n",
        "        return self.width * self.height\n",
        "\n",
        "# Creating instances of Circle and Rectangle\n",
        "circle = Circle(5)\n",
        "rectangle = Rectangle(4, 6)\n",
        "\n",
        "# Calculating areas\n",
        "circle_area = circle.area()        # Area of the circle\n",
        "rectangle_area = rectangle.area()  # Area of the rectangle\n",
        "\n",
        "circle_area, rectangle_area\n"
      ],
      "metadata": {
        "colab": {
          "base_uri": "https://localhost:8080/"
        },
        "id": "lAqWfqvNZHf3",
        "outputId": "924cac7a-4af8-440a-fcc7-be4b47b73a44"
      },
      "execution_count": 11,
      "outputs": [
        {
          "output_type": "execute_result",
          "data": {
            "text/plain": [
              "(78.53981633974483, 24)"
            ]
          },
          "metadata": {},
          "execution_count": 11
        }
      ]
    },
    {
      "cell_type": "markdown",
      "source": [
        "9.Demonstrate polymorphism by creating a function that can work with different shape objects to calculate and print their areas."
      ],
      "metadata": {
        "id": "yfxhHO0eZRZ8"
      }
    },
    {
      "cell_type": "code",
      "source": [
        "# Function to calculate and print the area of different shape objects\n",
        "def print_area(shape):\n",
        "    area = shape.area()  # Call the area method of the shape object\n",
        "    print(f\"The area of the {shape.__class__.__name__} is: {area}\")\n",
        "\n",
        "# Create instances of Circle and Rectangle\n",
        "circle = Circle(5)\n",
        "rectangle = Rectangle(4, 6)\n",
        "\n",
        "# Demonstrate polymorphism\n",
        "print_area(circle)    # Should print the area of the circle\n",
        "print_area(rectangle) # Should print the area of the rectangle\n"
      ],
      "metadata": {
        "colab": {
          "base_uri": "https://localhost:8080/"
        },
        "id": "Y2fXsPvqZeUy",
        "outputId": "c62efb1e-f2e4-4e87-f6e0-3c298415d78c"
      },
      "execution_count": 12,
      "outputs": [
        {
          "output_type": "stream",
          "name": "stdout",
          "text": [
            "The area of the Circle is: 78.53981633974483\n",
            "The area of the Rectangle is: 24\n"
          ]
        }
      ]
    },
    {
      "cell_type": "code",
      "source": [],
      "metadata": {
        "id": "Hqs0ckDvZgOS"
      },
      "execution_count": null,
      "outputs": []
    },
    {
      "cell_type": "markdown",
      "source": [
        ". 10.Implement encapsulation in a `BankAccount` class with private attributes for `balance` and `account_number`. Include methods for deposit, withdrawal, and balance inquiry."
      ],
      "metadata": {
        "id": "1pGKCzbUZqN4"
      }
    },
    {
      "cell_type": "code",
      "source": [
        "class BankAccount:\n",
        "    def __init__(self, account_number, initial_balance=0):\n",
        "        self.__account_number = account_number  # Private attribute\n",
        "        self.__balance = initial_balance  # Private attribute\n",
        "\n",
        "    def deposit(self, amount):\n",
        "        \"\"\"Deposit money into the account.\"\"\"\n",
        "        if amount > 0:\n",
        "            self.__balance += amount\n",
        "            print(f\"Deposited: ${amount}. New balance: ${self.__balance}.\")\n",
        "        else:\n",
        "            print(\"Deposit amount must be positive.\")\n",
        "\n",
        "    def withdraw(self, amount):\n",
        "        \"\"\"Withdraw money from the account.\"\"\"\n",
        "        if 0 < amount <= self.__balance:\n",
        "            self.__balance -= amount\n",
        "            print(f\"Withdrew: ${amount}. New balance: ${self.__balance}.\")\n",
        "        else:\n",
        "            print(\"Insufficient funds or invalid withdrawal amount.\")\n",
        "\n",
        "    def get_balance(self):\n",
        "        \"\"\"Inquire the current balance.\"\"\"\n",
        "        return self.__balance\n",
        "\n",
        "    def get_account_number(self):\n",
        "        \"\"\"Inquire the account number.\"\"\"\n",
        "        return self.__account_number\n",
        "\n",
        "\n",
        "# Example usage\n",
        "account = BankAccount(\"12345678\", 100)  # Create an account with an initial balance\n",
        "\n",
        "# Deposit money\n",
        "account.deposit(50)\n",
        "\n",
        "# Withdraw money\n",
        "account.withdraw(30)\n",
        "\n",
        "# Check balance\n",
        "balance = account.get_balance()\n",
        "print(f\"Current balance: ${balance}\")\n",
        "\n",
        "# Check account number\n",
        "account_number = account.get_account_number()\n",
        "print(f\"Account Number: {account_number}\")\n"
      ],
      "metadata": {
        "colab": {
          "base_uri": "https://localhost:8080/"
        },
        "id": "wCq3oeLZZvMl",
        "outputId": "abd566df-96b8-4774-92cc-34a94fdd5c4d"
      },
      "execution_count": 13,
      "outputs": [
        {
          "output_type": "stream",
          "name": "stdout",
          "text": [
            "Deposited: $50. New balance: $150.\n",
            "Withdrew: $30. New balance: $120.\n",
            "Current balance: $120\n",
            "Account Number: 12345678\n"
          ]
        }
      ]
    },
    {
      "cell_type": "markdown",
      "source": [
        "11.Write a class that overrides the `__str__` and `__add__` magic methods. What will these methods allow you to do?"
      ],
      "metadata": {
        "id": "SUY0r_WQZ0Bm"
      }
    },
    {
      "cell_type": "code",
      "source": [
        "class Point:\n",
        "    def __init__(self, x, y):\n",
        "        self.x = x\n",
        "        self.y = y\n",
        "\n",
        "    def __str__(self):\n",
        "        return f\"Point({self.x}, {self.y})\"\n",
        "\n",
        "    def __add__(self, other):\n",
        "        if isinstance(other, Point):\n",
        "            return Point(self.x + other.x, self.y + other.y)\n",
        "        return NotImplemented  # Return NotImplemented if other is not a Point\n",
        "\n",
        "# Example usage\n",
        "point1 = Point(2, 3)\n",
        "point2 = Point(5, 7)\n",
        "\n",
        "# Using the __str__ method\n",
        "print(point1)  # Output: Point(2, 3)\n",
        "\n",
        "# Using the __add__ method\n",
        "point3 = point1 + point2\n",
        "print(point3)  # Output: Point(7, 10)\n"
      ],
      "metadata": {
        "colab": {
          "base_uri": "https://localhost:8080/"
        },
        "id": "ygRk8huqZ5to",
        "outputId": "09c0d29e-5c20-4c2d-d107-a6398b2141cf"
      },
      "execution_count": 14,
      "outputs": [
        {
          "output_type": "stream",
          "name": "stdout",
          "text": [
            "Point(2, 3)\n",
            "Point(7, 10)\n"
          ]
        }
      ]
    },
    {
      "cell_type": "markdown",
      "source": [
        "12.Create a decorator that measures and prints the execution time of a function."
      ],
      "metadata": {
        "id": "V0iDC7XnaIv_"
      }
    },
    {
      "cell_type": "code",
      "source": [
        "import time\n",
        "from functools import wraps\n",
        "\n",
        "# Decorator to measure execution time\n",
        "def execution_time_decorator(func):\n",
        "    @wraps(func)\n",
        "    def wrapper(*args, **kwargs):\n",
        "        start_time = time.time()  # Record the start time\n",
        "        result = func(*args, **kwargs)  # Call the original function\n",
        "        end_time = time.time()  # Record the end time\n",
        "        execution_time = end_time - start_time  # Calculate the execution time\n",
        "        print(f\"Execution time of {func.__name__}: {execution_time:.6f} seconds\")\n",
        "        return result\n",
        "    return wrapper\n",
        "\n",
        "# Example function to demonstrate the decorator\n",
        "@execution_time_decorator\n",
        "def example_function(n):\n",
        "    \"\"\"Function that simulates a time-consuming task.\"\"\"\n",
        "    total = 0\n",
        "    for i in range(n):\n",
        "        total += i\n",
        "    return total\n",
        "\n",
        "# Calling the example function\n",
        "result = example_function(1000000)\n",
        "print(f\"Result: {result}\")\n"
      ],
      "metadata": {
        "colab": {
          "base_uri": "https://localhost:8080/"
        },
        "id": "Om3pL4AXaSkt",
        "outputId": "803bd0d5-bca1-497c-80cf-a5dda3d849a3"
      },
      "execution_count": 15,
      "outputs": [
        {
          "output_type": "stream",
          "name": "stdout",
          "text": [
            "Execution time of example_function: 0.074323 seconds\n",
            "Result: 499999500000\n"
          ]
        }
      ]
    },
    {
      "cell_type": "markdown",
      "source": [
        "13.Explain the concept of the Diamond Problem in multiple inheritance. How does Python resolve it?"
      ],
      "metadata": {
        "id": "4wHOWmnTaXLP"
      }
    },
    {
      "cell_type": "code",
      "source": [
        "class A:\n",
        "    def show(self):\n",
        "        print(\"Method from class A\")\n",
        "\n",
        "class B(A):\n",
        "    def show(self):\n",
        "        print(\"Method from class B\")\n",
        "\n",
        "class C(A):\n",
        "    def show(self):\n",
        "        print(\"Method from class C\")\n",
        "\n",
        "class D(B, C):\n",
        "    pass\n",
        "\n",
        "# Create an instance of D\n",
        "d = D()\n",
        "d.show()  # Which show() method will be called?\n"
      ],
      "metadata": {
        "colab": {
          "base_uri": "https://localhost:8080/"
        },
        "id": "jUG_WqjdafgM",
        "outputId": "bb7085da-cd4a-4fe6-fbcc-4d32f1caf927"
      },
      "execution_count": 16,
      "outputs": [
        {
          "output_type": "stream",
          "name": "stdout",
          "text": [
            "Method from class B\n"
          ]
        }
      ]
    },
    {
      "cell_type": "markdown",
      "source": [
        "14.Write a class method that keeps track of the number of instances created from a class."
      ],
      "metadata": {
        "id": "_w5zUyb8alvC"
      }
    },
    {
      "cell_type": "code",
      "source": [
        "class InstanceCounter:\n",
        "    instance_count = 0  # Class variable to keep track of the number of instances\n",
        "\n",
        "    def __init__(self):\n",
        "        InstanceCounter.instance_count += 1  # Increment the count on instance creation\n",
        "\n",
        "    @classmethod\n",
        "    def get_instance_count(cls):\n",
        "        \"\"\"Class method to return the number of instances created.\"\"\"\n",
        "        return cls.instance_count\n",
        "\n",
        "\n",
        "# Example usage\n",
        "obj1 = InstanceCounter()\n",
        "obj2 = InstanceCounter()\n",
        "obj3 = InstanceCounter()\n",
        "\n",
        "# Retrieve the number of instances created\n",
        "count = InstanceCounter.get_instance_count()\n",
        "print(f\"Number of instances created: {count}\")\n"
      ],
      "metadata": {
        "colab": {
          "base_uri": "https://localhost:8080/"
        },
        "id": "jAolIdgSaxaO",
        "outputId": "c12aef40-1b33-4909-ea66-508803dec47b"
      },
      "execution_count": 17,
      "outputs": [
        {
          "output_type": "stream",
          "name": "stdout",
          "text": [
            "Number of instances created: 3\n"
          ]
        }
      ]
    },
    {
      "cell_type": "markdown",
      "source": [
        "15. Implement a static method in a class that checks if a given year is a leap year."
      ],
      "metadata": {
        "id": "IbZO8Gxca2sR"
      }
    },
    {
      "cell_type": "code",
      "source": [
        "class YearChecker:\n",
        "    @staticmethod\n",
        "    def is_leap_year(year):\n",
        "        \"\"\"Static method to check if a given year is a leap year.\"\"\"\n",
        "        if (year % 4 == 0 and year % 100 != 0) or (year % 400 == 0):\n",
        "            return True\n",
        "        return False\n",
        "\n",
        "\n",
        "# Example usage\n",
        "year_to_check = 2024\n",
        "is_leap = YearChecker.is_leap_year(year_to_check)\n",
        "print(f\"{year_to_check} is a leap year: {is_leap}\")\n"
      ],
      "metadata": {
        "colab": {
          "base_uri": "https://localhost:8080/"
        },
        "id": "hxXkhLeta9K_",
        "outputId": "289fcdbf-b1c1-4b81-a9fe-2438dee14ef6"
      },
      "execution_count": 18,
      "outputs": [
        {
          "output_type": "stream",
          "name": "stdout",
          "text": [
            "2024 is a leap year: True\n"
          ]
        }
      ]
    },
    {
      "cell_type": "code",
      "source": [],
      "metadata": {
        "id": "A_d5vrSebAZj"
      },
      "execution_count": null,
      "outputs": []
    }
  ]
}